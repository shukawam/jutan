{
 "cells": [
  {
   "cell_type": "markdown",
   "metadata": {},
   "source": [
    "## Crawl nvidia-ai-summit session data"
   ]
  },
  {
   "cell_type": "code",
   "execution_count": null,
   "metadata": {},
   "outputs": [],
   "source": [
    "from bs4 import BeautifulSoup\n",
    "import pandas as pd\n",
    "\n",
    "with open(\"./session_catalog.html\") as f:\n",
    "    content = f.read()\n",
    "    sp = BeautifulSoup(content, 'html.parser')\n",
    "    \n",
    "    titles = [n.get_text() for n in sp.select(selector=\"div.title-text\")]\n",
    "    abstracts = [n.get_text() for n in sp.select(selector=\"div.description\")]\n",
    "    \n",
    "    df = pd.DataFrame(\n",
    "        data = {\n",
    "            \"title\": titles,\n",
    "            \"abstract\": abstracts\n",
    "        }\n",
    "    )\n",
    "    df.to_csv(path_or_buf=\"../app/data/nvidia-ai-summit/data.csv\", index=False)"
   ]
  }
 ],
 "metadata": {
  "kernelspec": {
   "display_name": ".venv",
   "language": "python",
   "name": "python3"
  },
  "language_info": {
   "codemirror_mode": {
    "name": "ipython",
    "version": 3
   },
   "file_extension": ".py",
   "mimetype": "text/x-python",
   "name": "python",
   "nbconvert_exporter": "python",
   "pygments_lexer": "ipython3",
   "version": "3.12.5"
  }
 },
 "nbformat": 4,
 "nbformat_minor": 2
}
